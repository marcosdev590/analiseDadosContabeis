{
 "cells": [
  {
   "cell_type": "code",
   "execution_count": 4,
   "id": "214ed2e7-150f-4876-b88a-9e747517172f",
   "metadata": {},
   "outputs": [
    {
     "name": "stdout",
     "output_type": "stream",
     "text": [
      "Bibliotecas importadas com sucesso!\n"
     ]
    }
   ],
   "source": [
    "# Célula 1: Importar as bibliotecas necessárias\n",
    "import pyodbc\n",
    "import pandas as pd\n",
    "import configparser\n",
    "\n",
    "print(\"Bibliotecas importadas com sucesso!\")"
   ]
  },
  {
   "cell_type": "code",
   "execution_count": 5,
   "id": "47f50d11-b64f-46c2-a188-d87ea03ce88f",
   "metadata": {},
   "outputs": [
    {
     "name": "stdout",
     "output_type": "stream",
     "text": [
      "❌ Erro na conexão com o banco de dados.\n",
      "   Verifique se o nome do DSN ('ContabilOficial') e as credenciais estão corretos.\n",
      "   Detalhe do erro: ('08001', '[08001] [Sybase][ODBC Driver][SQL Anywhere]Database server not found (-100) (SQLDriverConnect)')\n"
     ]
    }
   ],
   "source": [
    "# Célula 2: Configurar e estabelecer a conexão\n",
    "\n",
    "# Ler as configurações do arquivo config.ini\n",
    "config = configparser.ConfigParser()\n",
    "config.read('config.ini')\n",
    "\n",
    "# Pegar as credenciais da seção [DATABASE]\n",
    "dsn_name = config['DATABASE']['DSN']\n",
    "user = config['DATABASE']['USER']\n",
    "password = config['DATABASE']['PASSWORD']\n",
    "\n",
    "# Montando a string de conexão\n",
    "connection_string = f'DSN={dsn_name};UID={user};PWD={password}'\n",
    "\n",
    "# Bloco try...except para tratar possíveis erros de conexão\n",
    "try:\n",
    "    # Tenta conectar ao banco de dados\n",
    "    conn = pyodbc.connect(connection_string, autocommit=True)\n",
    "    \n",
    "    # Se chegou até aqui, a conexão foi um sucesso!\n",
    "    print(\"✅ Conexão com o banco de dados estabelecida com sucesso!\")\n",
    "    \n",
    "    # Cria um cursor. Ele é usado para executar os comandos SQL.\n",
    "    cursor = conn.cursor()\n",
    "\n",
    "except pyodbc.Error as ex:\n",
    "    sqlstate = ex.args[0]\n",
    "    print(f\"❌ Erro na conexão com o banco de dados.\")\n",
    "    print(f\"   Verifique se o nome do DSN ('{dsn_name}') e as credenciais estão corretos.\")\n",
    "    print(f\"   Detalhe do erro: {ex}\")\n",
    "    conn = None # Garante que a variável conn não será usada se der erro"
   ]
  },
  {
   "cell_type": "code",
   "execution_count": null,
   "id": "3178baf6-eada-4f00-aded-741eeaa5f7cf",
   "metadata": {},
   "outputs": [],
   "source": []
  }
 ],
 "metadata": {
  "kernelspec": {
   "display_name": "Python 3 (ipykernel)",
   "language": "python",
   "name": "python3"
  },
  "language_info": {
   "codemirror_mode": {
    "name": "ipython",
    "version": 3
   },
   "file_extension": ".py",
   "mimetype": "text/x-python",
   "name": "python",
   "nbconvert_exporter": "python",
   "pygments_lexer": "ipython3",
   "version": "3.13.1"
  }
 },
 "nbformat": 4,
 "nbformat_minor": 5
}
